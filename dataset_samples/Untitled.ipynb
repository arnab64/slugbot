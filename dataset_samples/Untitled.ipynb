{
 "cells": [
  {
   "cell_type": "code",
   "execution_count": 5,
   "metadata": {},
   "outputs": [
    {
     "name": "stdout",
     "output_type": "stream",
     "text": [
      "[Synset('interrupt.v.04'), Synset('break.v.02'), Synset('break.v.03'), Synset('break.v.04'), Synset('break.v.05'), Synset('transgress.v.01'), Synset('break.v.07'), Synset('break.v.08'), Synset('break.v.09'), Synset('break.v.10'), Synset('break_in.v.01'), Synset('break_in.v.06'), Synset('violate.v.01'), Synset('better.v.01'), Synset('unwrap.v.02'), Synset('break.v.16'), Synset('fail.v.04'), Synset('break.v.18'), Synset('break.v.19'), Synset('break.v.20'), Synset('dampen.v.07'), Synset('break.v.22'), Synset('break.v.23'), Synset('break.v.24'), Synset('break.v.25'), Synset('break.v.26'), Synset('break.v.27'), Synset('break.v.28'), Synset('break.v.29'), Synset('break.v.30'), Synset('separate.v.08'), Synset('demote.v.01'), Synset('bankrupt.v.01'), Synset('break.v.34'), Synset('break.v.35'), Synset('collapse.v.01'), Synset('break_dance.v.01'), Synset('break.v.38'), Synset('break.v.39'), Synset('break.v.40'), Synset('break.v.41'), Synset('break.v.42'), Synset('break.v.43'), Synset('break.v.44'), Synset('break.v.45'), Synset('break.v.46'), Synset('pause.v.02'), Synset('break.v.48'), Synset('break.v.49'), Synset('break.v.50'), Synset('break.v.51'), Synset('break.v.52'), Synset('break.v.53'), Synset('crack.v.01'), Synset('break.v.55'), Synset('break.v.56'), Synset('fracture.v.06'), Synset('break.v.58'), Synset('break.v.59')]\n"
     ]
    }
   ],
   "source": [
    "from nltk.corpus import sentiwordnet as swn\n",
    "from nltk.corpus import wordnet as wn\n",
    "\n",
    "print(wn.synsets('break', pos=wn.VERB))"
   ]
  },
  {
   "cell_type": "code",
   "execution_count": 7,
   "metadata": {},
   "outputs": [
    {
     "name": "stdout",
     "output_type": "stream",
     "text": [
      "a member of the genus Canis (probably descended from the common wolf) that has been domesticated by man since prehistoric times; occurs in many breeds\n"
     ]
    }
   ],
   "source": [
    "print(wn.synset('dog.n.01').definition())"
   ]
  },
  {
   "cell_type": "code",
   "execution_count": 8,
   "metadata": {},
   "outputs": [
    {
     "name": "stdout",
     "output_type": "stream",
     "text": [
      "['the dog barked all night']\n"
     ]
    }
   ],
   "source": [
    "print(wn.synset('dog.n.01').examples())"
   ]
  },
  {
   "cell_type": "code",
   "execution_count": null,
   "metadata": {},
   "outputs": [],
   "source": [
    "synx=wn.synsets('bad')\n",
    "for el in synx:\n",
    "    print(el)\n",
    "    #breakdown = swn.senti_synset(el)"
   ]
  },
  {
   "cell_type": "code",
   "execution_count": null,
   "metadata": {
    "collapsed": true
   },
   "outputs": [],
   "source": []
  }
 ],
 "metadata": {
  "kernelspec": {
   "display_name": "Python 3",
   "language": "python",
   "name": "python3"
  },
  "language_info": {
   "codemirror_mode": {
    "name": "ipython",
    "version": 3
   },
   "file_extension": ".py",
   "mimetype": "text/x-python",
   "name": "python",
   "nbconvert_exporter": "python",
   "pygments_lexer": "ipython3",
   "version": "3.5.0"
  }
 },
 "nbformat": 4,
 "nbformat_minor": 2
}
